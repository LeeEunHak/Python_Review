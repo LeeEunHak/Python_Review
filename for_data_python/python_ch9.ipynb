{
 "cells": [
  {
   "cell_type": "markdown",
   "metadata": {},
   "source": [
    "<h2 style=\"text-align:center;\"> &lt;데이터 분석을 위한 파이썬 철저입문&gt;</h2>\n",
    "\n",
    "<p style=\"text-align: right; margin-right:10rem;\"><strong>작성자 : 이은학</strong></p>\n",
    "\n",
    "<h3>9장. &nbsp;문자열과 텍스트 파일 데이터 다루기</h3>\n",
    "<hr>"
   ]
  },
  {
   "cell_type": "markdown",
   "metadata": {},
   "source": [
    "<h4>1. &nbsp;문자열 다루기</h4>\n",
    "<h5>1-1. &nbsp;문자열 분리하기</h5>\n",
    "<pre style=\"background: rgb(230, 230, 230); padding: 0.5rem; text-align: center;\">str.split(sep)</pre>\n",
    "<p><strong>split()</strong><br>\n",
    "<ul>\n",
    "    <li>문자열에서 구분자인 sep을 기준으로 문자열을 분리해 리스트로 반환한다.</li>\n",
    "    <li>구분자를 입력하지 않고 수행하면 문자열 사이의 모든 공백을 없애고 분리되 문자열을 항목으로 담은 리스트를 반환한다.</li>\n",
    "</ul>\n",
    "</p>"
   ]
  },
  {
   "cell_type": "code",
   "execution_count": 1,
   "metadata": {},
   "outputs": [
    {
     "data": {
      "text/plain": [
       "['박결', ' 박지영', ' 이은학']"
      ]
     },
     "execution_count": 1,
     "metadata": {},
     "output_type": "execute_result"
    }
   ],
   "source": [
    "student_name = \"박결, 박지영, 이은학\"\n",
    "student_name.split(',')"
   ]
  },
  {
   "cell_type": "code",
   "execution_count": 2,
   "metadata": {},
   "outputs": [
    {
     "data": {
      "text/plain": [
       "['python', 'java', 'C']"
      ]
     },
     "execution_count": 2,
     "metadata": {},
     "output_type": "execute_result"
    }
   ],
   "source": [
    "programming_language = \"python java C\"\n",
    "programming_language.split()"
   ]
  },
  {
   "cell_type": "markdown",
   "metadata": {},
   "source": [
    "<pre style=\"background: rgb(230, 230, 230); padding: 0.5rem; text-align: center;\">str.split([sep] maxsplit=숫자)</pre>\n",
    "<p><strong>maxsplit</strong><br>\n",
    "<ul>\n",
    "    <li>앞에서부터 원하는 횟수만큼만 문자열을 분리한다.</li>\n",
    "</ul>"
   ]
  },
  {
   "cell_type": "code",
   "execution_count": 3,
   "metadata": {},
   "outputs": [
    {
     "data": {
      "text/plain": [
       "['python', 'java', 'C C++']"
      ]
     },
     "execution_count": 3,
     "metadata": {},
     "output_type": "execute_result"
    }
   ],
   "source": [
    "programming_language = \"python java C C++\"\n",
    "programming_language.split(maxsplit=2)"
   ]
  },
  {
   "cell_type": "markdown",
   "metadata": {},
   "source": [
    "<br><h5>1-2. &nbsp;문자열 삭제하기</h5>\n",
    "<pre style=\"background: rgb(230, 230, 230); padding: 0.5rem; text-align: center;\">str.strip(chars)</pre>\n",
    "<p><strong>strip()</strong><br>\n",
    "<ul>\n",
    "    <li>문자열 앞과 뒤에서 시작해서 지정한 문자 외의 다른 문자를 만날 때까지 지정한 문자를 모두 삭제한 문자열을 반환한다.</li>\n",
    "    <li>문자를 지정하지 않는다면 문자열 앞과 뒤의 모든 공백과 개행문자(\\n)를 삭제한 후에 문자열을 반환한다.</li>\n",
    "</ul>"
   ]
  },
  {
   "cell_type": "code",
   "execution_count": 4,
   "metadata": {},
   "outputs": [
    {
     "data": {
      "text/plain": [
       "'Python'"
      ]
     },
     "execution_count": 4,
     "metadata": {},
     "output_type": "execute_result"
    }
   ],
   "source": [
    "str = \"aaaaPythonaaa\"\n",
    "str.strip('a')"
   ]
  },
  {
   "cell_type": "code",
   "execution_count": 5,
   "metadata": {},
   "outputs": [
    {
     "data": {
      "text/plain": [
       "'Python'"
      ]
     },
     "execution_count": 5,
     "metadata": {},
     "output_type": "execute_result"
    }
   ],
   "source": [
    "test_str = \"aaabbPythonbbbaa\"\n",
    "test_str.strip('ab')  #순서는 상관 없기 때문에 ba도 가능"
   ]
  },
  {
   "cell_type": "code",
   "execution_count": 6,
   "metadata": {},
   "outputs": [
    {
     "data": {
      "text/plain": [
       "'Python'"
      ]
     },
     "execution_count": 6,
     "metadata": {},
     "output_type": "execute_result"
    }
   ],
   "source": [
    "test_str2 = \"   Python   \"\n",
    "test_str2.strip()"
   ]
  },
  {
   "cell_type": "markdown",
   "metadata": {},
   "source": [
    "<p><strong>lstrip(), &nbsp;rstrip()</strong><br>\n",
    "<ul>\n",
    "    <li>문자열의 앞이나 뒤 중에서 한쪽만 삭제하고 싶을 때 사용한다. 각각 앞쪽부분, 뒤쪽부분을 삭제한다.</li>\n",
    "<ul>"
   ]
  },
  {
   "cell_type": "code",
   "execution_count": 8,
   "metadata": {},
   "outputs": [
    {
     "name": "stdout",
     "output_type": "stream",
     "text": [
      "My nama is leeeunhak.\n",
      "My nama is leeeunhak.000\n",
      "000My nama is leeeunhak.\n"
     ]
    }
   ],
   "source": [
    "str_lr = \"000My nama is leeeunhak.000\"\n",
    "print(str_lr.strip('0'))\n",
    "print(str_lr.lstrip('0'))\n",
    "print(str_lr.rstrip('0'))"
   ]
  },
  {
   "cell_type": "markdown",
   "metadata": {},
   "source": [
    "<br><h5>1-3. &nbsp;문자열 연결하기</h5>\n",
    "- 가장 기본적으로 더하기 연산자(+)를 사용한다.\n",
    "<pre style=\"background: rgb(230, 230, 230); padding: 0.5rem; text-align: center;\">str.join(seq)</pre>\n",
    "<p><strong>join()</strong><br>\n",
    "<ul>\n",
    "    <li>문자열을 항목으로 갖는 시퀀스(seq)의 항목 사이에 구분자 문자열을 모두 넣은 후에 문자열로 반환한다.</li>\n",
    "</ul>"
   ]
  },
  {
   "cell_type": "code",
   "execution_count": 13,
   "metadata": {},
   "outputs": [
    {
     "data": {
      "text/plain": [
       "['서울시', '영등포구', '도림동']"
      ]
     },
     "execution_count": 13,
     "metadata": {},
     "output_type": "execute_result"
    }
   ],
   "source": [
    "address_list = [\"서울시\", \"영등포구\", \"도림동\"]\n",
    "address_list"
   ]
  },
  {
   "cell_type": "code",
   "execution_count": 10,
   "metadata": {},
   "outputs": [
    {
     "data": {
      "text/plain": [
       "'서울시 영등포구 도림동'"
      ]
     },
     "execution_count": 10,
     "metadata": {},
     "output_type": "execute_result"
    }
   ],
   "source": [
    "\" \".join(address_list)\n"
   ]
  },
  {
   "cell_type": "markdown",
   "metadata": {},
   "source": [
    "<br><h5>1-4. &nbsp;문자열 찾기</h5>\n",
    "<pre style=\"background: rgb(230, 230, 230); padding: 0.5rem; text-align: center;\">str.find(search_str)</pre>\n",
    "<p><strong>find()</strong><br>\n",
    "<ul>\n",
    "    <li>문자열에서 찾으려는 검색 문자열과 첫 번째로 일치하는 문자열의 위치를 반환한다.</li>\n",
    "    <li>문자열의 위치는 0부터 시작하고, 문자열에서 검색 문자열을 찾을 수 없으면 -1을 반환한다.</li>\n",
    "</ul>"
   ]
  },
  {
   "cell_type": "code",
   "execution_count": 11,
   "metadata": {},
   "outputs": [
    {
     "name": "stdout",
     "output_type": "stream",
     "text": [
      "찾는 문자열의 위치: 7\n"
     ]
    }
   ],
   "source": [
    "str_f = \"Python code.\"\n",
    "\n",
    "print(\"찾는 문자열의 위치:\", str_f.find(\"code\"))"
   ]
  },
  {
   "cell_type": "markdown",
   "metadata": {},
   "source": [
    "<pre style=\"background: rgb(230, 230, 230); padding: 0.5rem; text-align: center;\">str.find(search_str, strat, end)</pre>\n",
    "<ul>\n",
    "    <li>다음과 같이 시작 위치와 끝 위치를 추가로 지정해서 검색 범위를 설정할 수도 있다.</li>\n",
    "</ul>"
   ]
  },
  {
   "cell_type": "code",
   "execution_count": 15,
   "metadata": {},
   "outputs": [
    {
     "name": "stdout",
     "output_type": "stream",
     "text": [
      "19\n"
     ]
    }
   ],
   "source": [
    "my = \"Hello, my name is leeeunhak.\"\n",
    "\n",
    "print(my.find(\"e\", 15, 25))"
   ]
  },
  {
   "cell_type": "markdown",
   "metadata": {},
   "source": [
    "<pre style=\"background: rgb(230, 230, 230); padding: 0.5rem; text-align: center;\">str.count(search_str)</pre>\n",
    "<p><strong>count()</strong><br>\n",
    "<ul>\n",
    "    <li>해당 문자열이 몇 번 나오는지 알고싶을 때 사용한다.</li>\n",
    "    <li>find()와 마찬가지로 start, end를 이용하여 검색 범위를 설정할 수도 있다.</li>\n",
    "</ul>"
   ]
  },
  {
   "cell_type": "code",
   "execution_count": 16,
   "metadata": {},
   "outputs": [
    {
     "name": "stdout",
     "output_type": "stream",
     "text": [
      "o의 개수는?: 2\n"
     ]
    }
   ],
   "source": [
    "str_c = \"Python is powerful.\"\n",
    "\n",
    "print(\"o의 개수는?:\", str_c.count(\"o\"))"
   ]
  },
  {
   "cell_type": "markdown",
   "metadata": {},
   "source": [
    "<br><h5>1-5. &nbsp;문자열 바꾸기</h5>\n",
    "<pre style=\"background: rgb(230, 230, 230); padding: 0.5rem; text-align: center;\">str.replace(old, new[, count])</pre>\n",
    "<p><strong>replace()</strong><br>\n",
    "<ul>\n",
    "    <li>문자열에서 지정한 문자열을 찾아서 바꿔준다.</li>\n",
    "    <li>count에는 지정된 문자열을 찾아서 바꾸는 횟수를 의미한다.</li>\n",
    "</ul>"
   ]
  },
  {
   "cell_type": "code",
   "execution_count": 17,
   "metadata": {},
   "outputs": [
    {
     "name": "stdout",
     "output_type": "stream",
     "text": [
      "Leeeunhak\n"
     ]
    }
   ],
   "source": [
    "name = \"kimeunhak\"\n",
    "\n",
    "print(name.replace('kim', 'Lee'))"
   ]
  },
  {
   "cell_type": "markdown",
   "metadata": {},
   "source": [
    "<br><h5>1-5. &nbsp;대소문자로 변경하기</h5>\n",
    "<pre style=\"background: rgb(230, 230, 230); padding: 0.8rem; text-align: center;\">str.lower()<br>str.upper()</pre>\n",
    "<p><strong>lower(), upper()</strong><br>\n",
    "<ul>\n",
    "    <li>문자열에서 로마자 알파벳을 각각 모두 대문자, 소문자로 변경한다.</li>\n",
    "</ul>"
   ]
  },
  {
   "cell_type": "code",
   "execution_count": 18,
   "metadata": {},
   "outputs": [
    {
     "name": "stdout",
     "output_type": "stream",
     "text": [
      "python python\n",
      "PYTHON PYTHON\n"
     ]
    }
   ],
   "source": [
    "string = \"python PYTHON\"\n",
    "\n",
    "print(string.lower())\n",
    "print(string.upper())"
   ]
  }
 ],
 "metadata": {
  "kernelspec": {
   "display_name": "Python 3",
   "language": "python",
   "name": "python3"
  },
  "language_info": {
   "codemirror_mode": {
    "name": "ipython",
    "version": 3
   },
   "file_extension": ".py",
   "mimetype": "text/x-python",
   "name": "python",
   "nbconvert_exporter": "python",
   "pygments_lexer": "ipython3",
   "version": "3.7.3"
  }
 },
 "nbformat": 4,
 "nbformat_minor": 2
}
